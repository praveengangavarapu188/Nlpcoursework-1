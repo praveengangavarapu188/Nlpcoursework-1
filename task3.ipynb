{
 "cells": [
  {
   "cell_type": "code",
   "execution_count": 3,
   "id": "64667e41-ea1b-497c-b0e0-72d75b065f1e",
   "metadata": {},
   "outputs": [],
   "source": [
    "import pandas as pd"
   ]
  },
  {
   "cell_type": "code",
   "execution_count": 4,
   "id": "26d8c910-905f-4dbe-af37-7dd6ad2ff092",
   "metadata": {},
   "outputs": [],
   "source": [
    "data = pd.read_csv(\"train.txt\", sep=\"\\t\")"
   ]
  },
  {
   "cell_type": "code",
   "execution_count": 5,
   "id": "4ad7153b-c80b-4774-bef5-168b5ea5e41f",
   "metadata": {},
   "outputs": [
    {
     "data": {
      "text/html": [
       "<div>\n",
       "<style scoped>\n",
       "    .dataframe tbody tr th:only-of-type {\n",
       "        vertical-align: middle;\n",
       "    }\n",
       "\n",
       "    .dataframe tbody tr th {\n",
       "        vertical-align: top;\n",
       "    }\n",
       "\n",
       "    .dataframe thead th {\n",
       "        text-align: right;\n",
       "    }\n",
       "</style>\n",
       "<table border=\"1\" class=\"dataframe\">\n",
       "  <thead>\n",
       "    <tr style=\"text-align: right;\">\n",
       "      <th></th>\n",
       "      <th>id</th>\n",
       "      <th>turn1</th>\n",
       "      <th>turn2</th>\n",
       "      <th>turn3</th>\n",
       "      <th>label</th>\n",
       "    </tr>\n",
       "  </thead>\n",
       "  <tbody>\n",
       "    <tr>\n",
       "      <th>0</th>\n",
       "      <td>0</td>\n",
       "      <td>Don't worry  I'm girl</td>\n",
       "      <td>hmm how do I know if you are</td>\n",
       "      <td>What's ur name?</td>\n",
       "      <td>others</td>\n",
       "    </tr>\n",
       "    <tr>\n",
       "      <th>1</th>\n",
       "      <td>1</td>\n",
       "      <td>When did I?</td>\n",
       "      <td>saw many times i think -_-</td>\n",
       "      <td>No. I never saw you</td>\n",
       "      <td>angry</td>\n",
       "    </tr>\n",
       "    <tr>\n",
       "      <th>2</th>\n",
       "      <td>2</td>\n",
       "      <td>By</td>\n",
       "      <td>by Google Chrome</td>\n",
       "      <td>Where you live</td>\n",
       "      <td>others</td>\n",
       "    </tr>\n",
       "    <tr>\n",
       "      <th>3</th>\n",
       "      <td>3</td>\n",
       "      <td>U r ridiculous</td>\n",
       "      <td>I might be ridiculous but I am telling the truth.</td>\n",
       "      <td>U little disgusting whore</td>\n",
       "      <td>angry</td>\n",
       "    </tr>\n",
       "    <tr>\n",
       "      <th>4</th>\n",
       "      <td>4</td>\n",
       "      <td>Just for time pass</td>\n",
       "      <td>wt do u do 4 a living then</td>\n",
       "      <td>Maybe</td>\n",
       "      <td>others</td>\n",
       "    </tr>\n",
       "    <tr>\n",
       "      <th>...</th>\n",
       "      <td>...</td>\n",
       "      <td>...</td>\n",
       "      <td>...</td>\n",
       "      <td>...</td>\n",
       "      <td>...</td>\n",
       "    </tr>\n",
       "    <tr>\n",
       "      <th>30155</th>\n",
       "      <td>30155</td>\n",
       "      <td>I don't work</td>\n",
       "      <td>I could take your shift</td>\n",
       "      <td>I am a student</td>\n",
       "      <td>others</td>\n",
       "    </tr>\n",
       "    <tr>\n",
       "      <th>30156</th>\n",
       "      <td>30156</td>\n",
       "      <td>I'm not getting you 😭😭😭</td>\n",
       "      <td>Why are you crying??</td>\n",
       "      <td>Because you are not making any sense</td>\n",
       "      <td>sad</td>\n",
       "    </tr>\n",
       "    <tr>\n",
       "      <th>30157</th>\n",
       "      <td>30157</td>\n",
       "      <td>Haha</td>\n",
       "      <td>no, seriously. What is up with that o-o</td>\n",
       "      <td>Had your breakfast?</td>\n",
       "      <td>others</td>\n",
       "    </tr>\n",
       "    <tr>\n",
       "      <th>30158</th>\n",
       "      <td>30158</td>\n",
       "      <td>Do you sing?</td>\n",
       "      <td>yea a lil</td>\n",
       "      <td>Nice</td>\n",
       "      <td>others</td>\n",
       "    </tr>\n",
       "    <tr>\n",
       "      <th>30159</th>\n",
       "      <td>30159</td>\n",
       "      <td>Me to</td>\n",
       "      <td>People be driving me crazy</td>\n",
       "      <td>Come on sleep with me</td>\n",
       "      <td>others</td>\n",
       "    </tr>\n",
       "  </tbody>\n",
       "</table>\n",
       "<p>30160 rows × 5 columns</p>\n",
       "</div>"
      ],
      "text/plain": [
       "          id                    turn1  \\\n",
       "0          0    Don't worry  I'm girl   \n",
       "1          1              When did I?   \n",
       "2          2                       By   \n",
       "3          3           U r ridiculous   \n",
       "4          4       Just for time pass   \n",
       "...      ...                      ...   \n",
       "30155  30155             I don't work   \n",
       "30156  30156  I'm not getting you 😭😭😭   \n",
       "30157  30157                     Haha   \n",
       "30158  30158             Do you sing?   \n",
       "30159  30159                    Me to   \n",
       "\n",
       "                                                   turn2  \\\n",
       "0                           hmm how do I know if you are   \n",
       "1                             saw many times i think -_-   \n",
       "2                                       by Google Chrome   \n",
       "3      I might be ridiculous but I am telling the truth.   \n",
       "4                             wt do u do 4 a living then   \n",
       "...                                                  ...   \n",
       "30155                            I could take your shift   \n",
       "30156                               Why are you crying??   \n",
       "30157            no, seriously. What is up with that o-o   \n",
       "30158                                          yea a lil   \n",
       "30159                         People be driving me crazy   \n",
       "\n",
       "                                      turn3   label  \n",
       "0                           What's ur name?  others  \n",
       "1                       No. I never saw you   angry  \n",
       "2                            Where you live  others  \n",
       "3                 U little disgusting whore   angry  \n",
       "4                                     Maybe  others  \n",
       "...                                     ...     ...  \n",
       "30155                        I am a student  others  \n",
       "30156  Because you are not making any sense     sad  \n",
       "30157                   Had your breakfast?  others  \n",
       "30158                                  Nice  others  \n",
       "30159                 Come on sleep with me  others  \n",
       "\n",
       "[30160 rows x 5 columns]"
      ]
     },
     "execution_count": 5,
     "metadata": {},
     "output_type": "execute_result"
    }
   ],
   "source": [
    "data"
   ]
  },
  {
   "cell_type": "code",
   "execution_count": 6,
   "id": "5ee645c9-8752-4165-86f6-e9d18581fc9e",
   "metadata": {},
   "outputs": [
    {
     "name": "stdout",
     "output_type": "stream",
     "text": [
      "<class 'pandas.core.frame.DataFrame'>\n",
      "RangeIndex: 30160 entries, 0 to 30159\n",
      "Data columns (total 5 columns):\n",
      " #   Column  Non-Null Count  Dtype \n",
      "---  ------  --------------  ----- \n",
      " 0   id      30160 non-null  int64 \n",
      " 1   turn1   30160 non-null  object\n",
      " 2   turn2   30160 non-null  object\n",
      " 3   turn3   30160 non-null  object\n",
      " 4   label   30160 non-null  object\n",
      "dtypes: int64(1), object(4)\n",
      "memory usage: 1.2+ MB\n"
     ]
    }
   ],
   "source": [
    "data.info()"
   ]
  },
  {
   "cell_type": "code",
   "execution_count": 7,
   "id": "998026a1-1c74-4e3e-8acd-4431c821ac19",
   "metadata": {},
   "outputs": [
    {
     "data": {
      "image/png": "[encoded data removed]",
      "text/plain": [
       "<Figure size 800x600 with 1 Axes>"
      ]
     },
     "metadata": {},
     "output_type": "display_data"
    }
   ],
   "source": [
    "import matplotlib.pyplot as plt\n",
    "import seaborn as sns\n",
    "\n",
    "plt.figure(figsize=(8, 6))\n",
    "sns.countplot(x='label', data=data, palette='Set2')\n",
    "plt.title('Distribution of Emotion Labels')\n",
    "plt.xlabel('Emotion')\n",
    "plt.ylabel('Count')\n",
    "plt.show()"
   ]
  },
  {
   "cell_type": "code",
   "execution_count": 8,
   "id": "d80e5532-831e-4e2a-a993-b05598d205ba",
   "metadata": {},
   "outputs": [],
   "source": [
    "data['Word_count1'] = data['turn1'].apply(lambda x: len(str(x).split()))\n",
    "data['Word_count2'] = data['turn2'].apply(lambda x: len(str(x).split()))\n",
    "data['Word_count3'] = data['turn3'].apply(lambda x: len(str(x).split()))"
   ]
  },
  {
   "cell_type": "code",
   "execution_count": 9,
   "id": "1d81ae8d-08aa-4ec1-83c1-33a6ad306683",
   "metadata": {},
   "outputs": [
    {
     "data": {
      "image/png": "[encoded data removed]",
      "text/plain": [
       "<Figure size 1000x600 with 1 Axes>"
      ]
     },
     "metadata": {},
     "output_type": "display_data"
    }
   ],
   "source": [
    "plt.figure(figsize=(10, 6))\n",
    "sns.histplot(data['Word_count1'], kde=True, color='blue', label='Turn 1')\n",
    "plt.xlabel('Word Count')\n",
    "plt.ylabel('Frequency')\n",
    "plt.legend()\n",
    "plt.show()"
   ]
  },
  {
   "cell_type": "code",
   "execution_count": 10,
   "id": "139004d8-5742-4b82-aa90-c485a747e9c7",
   "metadata": {},
   "outputs": [
    {
     "data": {
      "image/png": "[encoded data removed]",
      "text/plain": [
       "<Figure size 1000x600 with 1 Axes>"
      ]
     },
     "metadata": {},
     "output_type": "display_data"
    }
   ],
   "source": [
    "plt.figure(figsize=(10, 6))\n",
    "sns.histplot(data['Word_count2'], kde=True, color='green', label='Turn 2')\n",
    "plt.xlabel('Word Count')\n",
    "plt.ylabel('Frequency')\n",
    "plt.legend()\n",
    "plt.show()"
   ]
  },
  {
   "cell_type": "code",
   "execution_count": 11,
   "id": "7bb558c8-1e66-485c-ab8f-9d09fb4b68ce",
   "metadata": {},
   "outputs": [
    {
     "data": {
      "image/png": "[encoded data removed]",
      "text/plain": [
       "<Figure size 1000x600 with 1 Axes>"
      ]
     },
     "metadata": {},
     "output_type": "display_data"
    }
   ],
   "source": [
    "plt.figure(figsize=(10, 6))\n",
    "sns.histplot(data['Word_count3'], kde=True, color='red', label='Turn 3')\n",
    "plt.xlabel('Word Count')\n",
    "plt.ylabel('Frequency')\n",
    "plt.legend()\n",
    "plt.show()"
   ]
  },
  {
   "cell_type": "code",
   "execution_count": 12,
   "id": "4b0ed72d-6df9-4676-877c-3c7b4d27f9c1",
   "metadata": {},
   "outputs": [],
   "source": [
    "df = data.copy()"
   ]
  },
  {
   "cell_type": "code",
   "execution_count": 13,
   "id": "30374074-3f10-494c-a822-ad510371f2d4",
   "metadata": {},
   "outputs": [
    {
     "data": {
      "text/html": [
       "<div>\n",
       "<style scoped>\n",
       "    .dataframe tbody tr th:only-of-type {\n",
       "        vertical-align: middle;\n",
       "    }\n",
       "\n",
       "    .dataframe tbody tr th {\n",
       "        vertical-align: top;\n",
       "    }\n",
       "\n",
       "    .dataframe thead th {\n",
       "        text-align: right;\n",
       "    }\n",
       "</style>\n",
       "<table border=\"1\" class=\"dataframe\">\n",
       "  <thead>\n",
       "    <tr style=\"text-align: right;\">\n",
       "      <th></th>\n",
       "      <th>turn1</th>\n",
       "      <th>turn2</th>\n",
       "      <th>turn3</th>\n",
       "      <th>label</th>\n",
       "      <th>Word_count1</th>\n",
       "      <th>Word_count2</th>\n",
       "      <th>Word_count3</th>\n",
       "    </tr>\n",
       "  </thead>\n",
       "  <tbody>\n",
       "    <tr>\n",
       "      <th>0</th>\n",
       "      <td>Don't worry  I'm girl</td>\n",
       "      <td>hmm how do I know if you are</td>\n",
       "      <td>What's ur name?</td>\n",
       "      <td>others</td>\n",
       "      <td>4</td>\n",
       "      <td>8</td>\n",
       "      <td>3</td>\n",
       "    </tr>\n",
       "    <tr>\n",
       "      <th>1</th>\n",
       "      <td>When did I?</td>\n",
       "      <td>saw many times i think -_-</td>\n",
       "      <td>No. I never saw you</td>\n",
       "      <td>angry</td>\n",
       "      <td>3</td>\n",
       "      <td>6</td>\n",
       "      <td>5</td>\n",
       "    </tr>\n",
       "    <tr>\n",
       "      <th>2</th>\n",
       "      <td>By</td>\n",
       "      <td>by Google Chrome</td>\n",
       "      <td>Where you live</td>\n",
       "      <td>others</td>\n",
       "      <td>1</td>\n",
       "      <td>3</td>\n",
       "      <td>3</td>\n",
       "    </tr>\n",
       "    <tr>\n",
       "      <th>3</th>\n",
       "      <td>U r ridiculous</td>\n",
       "      <td>I might be ridiculous but I am telling the truth.</td>\n",
       "      <td>U little disgusting whore</td>\n",
       "      <td>angry</td>\n",
       "      <td>3</td>\n",
       "      <td>10</td>\n",
       "      <td>4</td>\n",
       "    </tr>\n",
       "    <tr>\n",
       "      <th>4</th>\n",
       "      <td>Just for time pass</td>\n",
       "      <td>wt do u do 4 a living then</td>\n",
       "      <td>Maybe</td>\n",
       "      <td>others</td>\n",
       "      <td>4</td>\n",
       "      <td>8</td>\n",
       "      <td>1</td>\n",
       "    </tr>\n",
       "    <tr>\n",
       "      <th>...</th>\n",
       "      <td>...</td>\n",
       "      <td>...</td>\n",
       "      <td>...</td>\n",
       "      <td>...</td>\n",
       "      <td>...</td>\n",
       "      <td>...</td>\n",
       "      <td>...</td>\n",
       "    </tr>\n",
       "    <tr>\n",
       "      <th>30155</th>\n",
       "      <td>I don't work</td>\n",
       "      <td>I could take your shift</td>\n",
       "      <td>I am a student</td>\n",
       "      <td>others</td>\n",
       "      <td>3</td>\n",
       "      <td>5</td>\n",
       "      <td>4</td>\n",
       "    </tr>\n",
       "    <tr>\n",
       "      <th>30156</th>\n",
       "      <td>I'm not getting you 😭😭😭</td>\n",
       "      <td>Why are you crying??</td>\n",
       "      <td>Because you are not making any sense</td>\n",
       "      <td>sad</td>\n",
       "      <td>5</td>\n",
       "      <td>4</td>\n",
       "      <td>7</td>\n",
       "    </tr>\n",
       "    <tr>\n",
       "      <th>30157</th>\n",
       "      <td>Haha</td>\n",
       "      <td>no, seriously. What is up with that o-o</td>\n",
       "      <td>Had your breakfast?</td>\n",
       "      <td>others</td>\n",
       "      <td>1</td>\n",
       "      <td>8</td>\n",
       "      <td>3</td>\n",
       "    </tr>\n",
       "    <tr>\n",
       "      <th>30158</th>\n",
       "      <td>Do you sing?</td>\n",
       "      <td>yea a lil</td>\n",
       "      <td>Nice</td>\n",
       "      <td>others</td>\n",
       "      <td>3</td>\n",
       "      <td>3</td>\n",
       "      <td>1</td>\n",
       "    </tr>\n",
       "    <tr>\n",
       "      <th>30159</th>\n",
       "      <td>Me to</td>\n",
       "      <td>People be driving me crazy</td>\n",
       "      <td>Come on sleep with me</td>\n",
       "      <td>others</td>\n",
       "      <td>2</td>\n",
       "      <td>5</td>\n",
       "      <td>5</td>\n",
       "    </tr>\n",
       "  </tbody>\n",
       "</table>\n",
       "<p>30160 rows × 7 columns</p>\n",
       "</div>"
      ],
      "text/plain": [
       "                         turn1  \\\n",
       "0        Don't worry  I'm girl   \n",
       "1                  When did I?   \n",
       "2                           By   \n",
       "3               U r ridiculous   \n",
       "4           Just for time pass   \n",
       "...                        ...   \n",
       "30155             I don't work   \n",
       "30156  I'm not getting you 😭😭😭   \n",
       "30157                     Haha   \n",
       "30158             Do you sing?   \n",
       "30159                    Me to   \n",
       "\n",
       "                                                   turn2  \\\n",
       "0                           hmm how do I know if you are   \n",
       "1                             saw many times i think -_-   \n",
       "2                                       by Google Chrome   \n",
       "3      I might be ridiculous but I am telling the truth.   \n",
       "4                             wt do u do 4 a living then   \n",
       "...                                                  ...   \n",
       "30155                            I could take your shift   \n",
       "30156                               Why are you crying??   \n",
       "30157            no, seriously. What is up with that o-o   \n",
       "30158                                          yea a lil   \n",
       "30159                         People be driving me crazy   \n",
       "\n",
       "                                      turn3   label  Word_count1  Word_count2  \\\n",
       "0                           What's ur name?  others            4            8   \n",
       "1                       No. I never saw you   angry            3            6   \n",
       "2                            Where you live  others            1            3   \n",
       "3                 U little disgusting whore   angry            3           10   \n",
       "4                                     Maybe  others            4            8   \n",
       "...                                     ...     ...          ...          ...   \n",
       "30155                        I am a student  others            3            5   \n",
       "30156  Because you are not making any sense     sad            5            4   \n",
       "30157                   Had your breakfast?  others            1            8   \n",
       "30158                                  Nice  others            3            3   \n",
       "30159                 Come on sleep with me  others            2            5   \n",
       "\n",
       "       Word_count3  \n",
       "0                3  \n",
       "1                5  \n",
       "2                3  \n",
       "3                4  \n",
       "4                1  \n",
       "...            ...  \n",
       "30155            4  \n",
       "30156            7  \n",
       "30157            3  \n",
       "30158            1  \n",
       "30159            5  \n",
       "\n",
       "[30160 rows x 7 columns]"
      ]
     },
     "execution_count": 13,
     "metadata": {},
     "output_type": "execute_result"
    }
   ],
   "source": [
    "df.drop(columns=[\"id\"], inplace=True)\n",
    "df"
   ]
  },
  {
   "cell_type": "code",
   "execution_count": 14,
   "id": "1074fba1-a3b7-4ea2-97a0-e8a36d1ccf24",
   "metadata": {},
   "outputs": [
    {
     "data": {
      "text/html": [
       "<div>\n",
       "<style scoped>\n",
       "    .dataframe tbody tr th:only-of-type {\n",
       "        vertical-align: middle;\n",
       "    }\n",
       "\n",
       "    .dataframe tbody tr th {\n",
       "        vertical-align: top;\n",
       "    }\n",
       "\n",
       "    .dataframe thead th {\n",
       "        text-align: right;\n",
       "    }\n",
       "</style>\n",
       "<table border=\"1\" class=\"dataframe\">\n",
       "  <thead>\n",
       "    <tr style=\"text-align: right;\">\n",
       "      <th></th>\n",
       "      <th>Word_count1</th>\n",
       "      <th>Word_count2</th>\n",
       "      <th>Word_count3</th>\n",
       "    </tr>\n",
       "  </thead>\n",
       "  <tbody>\n",
       "    <tr>\n",
       "      <th>count</th>\n",
       "      <td>30160.000000</td>\n",
       "      <td>30160.000000</td>\n",
       "      <td>30160.000000</td>\n",
       "    </tr>\n",
       "    <tr>\n",
       "      <th>mean</th>\n",
       "      <td>4.103050</td>\n",
       "      <td>5.405172</td>\n",
       "      <td>3.971684</td>\n",
       "    </tr>\n",
       "    <tr>\n",
       "      <th>std</th>\n",
       "      <td>2.913941</td>\n",
       "      <td>3.075510</td>\n",
       "      <td>3.093693</td>\n",
       "    </tr>\n",
       "    <tr>\n",
       "      <th>min</th>\n",
       "      <td>1.000000</td>\n",
       "      <td>1.000000</td>\n",
       "      <td>1.000000</td>\n",
       "    </tr>\n",
       "    <tr>\n",
       "      <th>25%</th>\n",
       "      <td>2.000000</td>\n",
       "      <td>3.000000</td>\n",
       "      <td>2.000000</td>\n",
       "    </tr>\n",
       "    <tr>\n",
       "      <th>50%</th>\n",
       "      <td>4.000000</td>\n",
       "      <td>5.000000</td>\n",
       "      <td>3.000000</td>\n",
       "    </tr>\n",
       "    <tr>\n",
       "      <th>75%</th>\n",
       "      <td>5.000000</td>\n",
       "      <td>7.000000</td>\n",
       "      <td>5.000000</td>\n",
       "    </tr>\n",
       "    <tr>\n",
       "      <th>max</th>\n",
       "      <td>65.000000</td>\n",
       "      <td>21.000000</td>\n",
       "      <td>143.000000</td>\n",
       "    </tr>\n",
       "  </tbody>\n",
       "</table>\n",
       "</div>"
      ],
      "text/plain": [
       "        Word_count1   Word_count2   Word_count3\n",
       "count  30160.000000  30160.000000  30160.000000\n",
       "mean       4.103050      5.405172      3.971684\n",
       "std        2.913941      3.075510      3.093693\n",
       "min        1.000000      1.000000      1.000000\n",
       "25%        2.000000      3.000000      2.000000\n",
       "50%        4.000000      5.000000      3.000000\n",
       "75%        5.000000      7.000000      5.000000\n",
       "max       65.000000     21.000000    143.000000"
      ]
     },
     "execution_count": 14,
     "metadata": {},
     "output_type": "execute_result"
    }
   ],
   "source": [
    "df.describe()"
   ]
  },
  {
   "cell_type": "code",
   "execution_count": 15,
   "id": "73d59e04-0ab5-4055-bd6d-718c6ba7a0e6",
   "metadata": {},
   "outputs": [],
   "source": [
    "df = df[\n",
    "    (df['Word_count1'] <= df['Word_count1'].quantile(0.95)) &\n",
    "    (df['Word_count2'] <= df['Word_count2'].quantile(0.95)) &\n",
    "    (df['Word_count3'] <= df['Word_count3'].quantile(0.95))\n",
    "]"
   ]
  },
  {
   "cell_type": "code",
   "execution_count": 16,
   "id": "d3796509-2734-4fff-a00c-3e0d2d6ed790",
   "metadata": {},
   "outputs": [
    {
     "data": {
      "image/png": "[encoded data removed]",
      "text/plain": [
       "<Figure size 1000x600 with 1 Axes>"
      ]
     },
     "metadata": {},
     "output_type": "display_data"
    }
   ],
   "source": [
    "plt.figure(figsize=(10, 6))\n",
    "sns.histplot(df['Word_count1'], kde=True, color='blue', label='Turn 1')\n",
    "plt.xlabel('Word Count')\n",
    "plt.ylabel('Frequency')\n",
    "plt.legend()\n",
    "plt.show()"
   ]
  },
  {
   "cell_type": "code",
   "execution_count": 17,
   "id": "334de8fe-067b-432f-a88a-f0ab012e6c43",
   "metadata": {},
   "outputs": [
    {
     "data": {
      "image/png": "[encoded data removed]",
      "text/plain": [
       "<Figure size 1000x600 with 1 Axes>"
      ]
     },
     "metadata": {},
     "output_type": "display_data"
    }
   ],
   "source": [
    "plt.figure(figsize=(10, 6))\n",
    "sns.histplot(df['Word_count2'], kde=True, color='green', label='Turn 2')\n",
    "plt.xlabel('Word Count')\n",
    "plt.ylabel('Frequency')\n",
    "plt.legend()\n",
    "plt.show()"
   ]
  },
  {
   "cell_type": "code",
   "execution_count": 18,
   "id": "99ac628a-671a-4e95-9bfd-d9a0e804710f",
   "metadata": {},
   "outputs": [
    {
     "data": {
      "image/png": "[encoded data removed]",
      "text/plain": [
       "<Figure size 1000x600 with 1 Axes>"
      ]
     },
     "metadata": {},
     "output_type": "display_data"
    }
   ],
   "source": [
    "plt.figure(figsize=(10, 6))\n",
    "sns.histplot(df['Word_count3'], kde=True, color='red', label='Turn 3')\n",
    "plt.xlabel('Word Count')\n",
    "plt.ylabel('Frequency')\n",
    "plt.legend()\n",
    "plt.show()"
   ]
  },
  {
   "cell_type": "code",
   "execution_count": 19,
   "id": "0b89128c-1929-46dd-8ec0-c700f859f7f9",
   "metadata": {},
   "outputs": [
    {
     "data": {
      "text/html": [
       "<div>\n",
       "<style scoped>\n",
       "    .dataframe tbody tr th:only-of-type {\n",
       "        vertical-align: middle;\n",
       "    }\n",
       "\n",
       "    .dataframe tbody tr th {\n",
       "        vertical-align: top;\n",
       "    }\n",
       "\n",
       "    .dataframe thead th {\n",
       "        text-align: right;\n",
       "    }\n",
       "</style>\n",
       "<table border=\"1\" class=\"dataframe\">\n",
       "  <thead>\n",
       "    <tr style=\"text-align: right;\">\n",
       "      <th></th>\n",
       "      <th>turn1</th>\n",
       "      <th>turn2</th>\n",
       "      <th>turn3</th>\n",
       "      <th>label</th>\n",
       "    </tr>\n",
       "  </thead>\n",
       "  <tbody>\n",
       "    <tr>\n",
       "      <th>0</th>\n",
       "      <td>Don't worry  I'm girl</td>\n",
       "      <td>hmm how do I know if you are</td>\n",
       "      <td>What's ur name?</td>\n",
       "      <td>others</td>\n",
       "    </tr>\n",
       "    <tr>\n",
       "      <th>1</th>\n",
       "      <td>When did I?</td>\n",
       "      <td>saw many times i think -_-</td>\n",
       "      <td>No. I never saw you</td>\n",
       "      <td>angry</td>\n",
       "    </tr>\n",
       "    <tr>\n",
       "      <th>2</th>\n",
       "      <td>By</td>\n",
       "      <td>by Google Chrome</td>\n",
       "      <td>Where you live</td>\n",
       "      <td>others</td>\n",
       "    </tr>\n",
       "    <tr>\n",
       "      <th>3</th>\n",
       "      <td>U r ridiculous</td>\n",
       "      <td>I might be ridiculous but I am telling the truth.</td>\n",
       "      <td>U little disgusting whore</td>\n",
       "      <td>angry</td>\n",
       "    </tr>\n",
       "    <tr>\n",
       "      <th>4</th>\n",
       "      <td>Just for time pass</td>\n",
       "      <td>wt do u do 4 a living then</td>\n",
       "      <td>Maybe</td>\n",
       "      <td>others</td>\n",
       "    </tr>\n",
       "    <tr>\n",
       "      <th>...</th>\n",
       "      <td>...</td>\n",
       "      <td>...</td>\n",
       "      <td>...</td>\n",
       "      <td>...</td>\n",
       "    </tr>\n",
       "    <tr>\n",
       "      <th>30155</th>\n",
       "      <td>I don't work</td>\n",
       "      <td>I could take your shift</td>\n",
       "      <td>I am a student</td>\n",
       "      <td>others</td>\n",
       "    </tr>\n",
       "    <tr>\n",
       "      <th>30156</th>\n",
       "      <td>I'm not getting you 😭😭😭</td>\n",
       "      <td>Why are you crying??</td>\n",
       "      <td>Because you are not making any sense</td>\n",
       "      <td>sad</td>\n",
       "    </tr>\n",
       "    <tr>\n",
       "      <th>30157</th>\n",
       "      <td>Haha</td>\n",
       "      <td>no, seriously. What is up with that o-o</td>\n",
       "      <td>Had your breakfast?</td>\n",
       "      <td>others</td>\n",
       "    </tr>\n",
       "    <tr>\n",
       "      <th>30158</th>\n",
       "      <td>Do you sing?</td>\n",
       "      <td>yea a lil</td>\n",
       "      <td>Nice</td>\n",
       "      <td>others</td>\n",
       "    </tr>\n",
       "    <tr>\n",
       "      <th>30159</th>\n",
       "      <td>Me to</td>\n",
       "      <td>People be driving me crazy</td>\n",
       "      <td>Come on sleep with me</td>\n",
       "      <td>others</td>\n",
       "    </tr>\n",
       "  </tbody>\n",
       "</table>\n",
       "<p>26759 rows × 4 columns</p>\n",
       "</div>"
      ],
      "text/plain": [
       "                         turn1  \\\n",
       "0        Don't worry  I'm girl   \n",
       "1                  When did I?   \n",
       "2                           By   \n",
       "3               U r ridiculous   \n",
       "4           Just for time pass   \n",
       "...                        ...   \n",
       "30155             I don't work   \n",
       "30156  I'm not getting you 😭😭😭   \n",
       "30157                     Haha   \n",
       "30158             Do you sing?   \n",
       "30159                    Me to   \n",
       "\n",
       "                                                   turn2  \\\n",
       "0                           hmm how do I know if you are   \n",
       "1                             saw many times i think -_-   \n",
       "2                                       by Google Chrome   \n",
       "3      I might be ridiculous but I am telling the truth.   \n",
       "4                             wt do u do 4 a living then   \n",
       "...                                                  ...   \n",
       "30155                            I could take your shift   \n",
       "30156                               Why are you crying??   \n",
       "30157            no, seriously. What is up with that o-o   \n",
       "30158                                          yea a lil   \n",
       "30159                         People be driving me crazy   \n",
       "\n",
       "                                      turn3   label  \n",
       "0                           What's ur name?  others  \n",
       "1                       No. I never saw you   angry  \n",
       "2                            Where you live  others  \n",
       "3                 U little disgusting whore   angry  \n",
       "4                                     Maybe  others  \n",
       "...                                     ...     ...  \n",
       "30155                        I am a student  others  \n",
       "30156  Because you are not making any sense     sad  \n",
       "30157                   Had your breakfast?  others  \n",
       "30158                                  Nice  others  \n",
       "30159                 Come on sleep with me  others  \n",
       "\n",
       "[26759 rows x 4 columns]"
      ]
     },
     "execution_count": 19,
     "metadata": {},
     "output_type": "execute_result"
    }
   ],
   "source": [
    "df.drop(columns=[\"Word_count1\",\"Word_count2\",\"Word_count3\"])"
   ]
  },
  {
   "cell_type": "code",
   "execution_count": 20,
   "id": "da310001-86d8-4487-913c-09c93e3b0936",
   "metadata": {},
   "outputs": [
    {
     "data": {
      "text/plain": [
       "turn1          0\n",
       "turn2          0\n",
       "turn3          0\n",
       "label          0\n",
       "Word_count1    0\n",
       "Word_count2    0\n",
       "Word_count3    0\n",
       "dtype: int64"
      ]
     },
     "execution_count": 20,
     "metadata": {},
     "output_type": "execute_result"
    }
   ],
   "source": [
    "df.isnull().sum()"
   ]
  },
  {
   "cell_type": "code",
   "execution_count": 21,
   "id": "0a5c8a4f-0ea4-497f-a6ab-080d9d1d4ea3",
   "metadata": {},
   "outputs": [
    {
     "name": "stderr",
     "output_type": "stream",
     "text": [
      "C:\\Users\\dipen\\AppData\\Local\\Temp\\ipykernel_27052\\3810595623.py:1: SettingWithCopyWarning: \n",
      "A value is trying to be set on a copy of a slice from a DataFrame.\n",
      "Try using .loc[row_indexer,col_indexer] = value instead\n",
      "\n",
      "See the caveats in the documentation: https://pandas.pydata.org/pandas-docs/stable/user_guide/indexing.html#returning-a-view-versus-a-copy\n",
      "  df[\"convo\"] = df[\"turn1\"]+\" \"+df[\"turn2\"]+\" \"+df[\"turn3\"]\n"
     ]
    },
    {
     "data": {
      "text/plain": [
       "0        Don't worry  I'm girl hmm how do I know if you...\n",
       "1        When did I? saw many times i think -_- No. I n...\n",
       "2                       By by Google Chrome Where you live\n",
       "3        U r ridiculous I might be ridiculous but I am ...\n",
       "4        Just for time pass wt do u do 4 a living then ...\n",
       "                               ...                        \n",
       "30155    I don't work I could take your shift I am a st...\n",
       "30156    I'm not getting you 😭😭😭 Why are you crying?? B...\n",
       "30157    Haha no, seriously. What is up with that o-o H...\n",
       "30158                          Do you sing? yea a lil Nice\n",
       "30159    Me to People be driving me crazy Come on sleep...\n",
       "Name: convo, Length: 26759, dtype: object"
      ]
     },
     "execution_count": 21,
     "metadata": {},
     "output_type": "execute_result"
    }
   ],
   "source": [
    "df[\"convo\"] = df[\"turn1\"]+\" \"+df[\"turn2\"]+\" \"+df[\"turn3\"]\n",
    "df[\"convo\"]"
   ]
  },
  {
   "cell_type": "code",
   "execution_count": 22,
   "id": "5ead4484-d48e-4f49-9e36-a5cbf16b765b",
   "metadata": {},
   "outputs": [
    {
     "data": {
      "text/html": [
       "<div>\n",
       "<style scoped>\n",
       "    .dataframe tbody tr th:only-of-type {\n",
       "        vertical-align: middle;\n",
       "    }\n",
       "\n",
       "    .dataframe tbody tr th {\n",
       "        vertical-align: top;\n",
       "    }\n",
       "\n",
       "    .dataframe thead th {\n",
       "        text-align: right;\n",
       "    }\n",
       "</style>\n",
       "<table border=\"1\" class=\"dataframe\">\n",
       "  <thead>\n",
       "    <tr style=\"text-align: right;\">\n",
       "      <th></th>\n",
       "      <th>turn1</th>\n",
       "      <th>turn2</th>\n",
       "      <th>turn3</th>\n",
       "      <th>label</th>\n",
       "      <th>Word_count1</th>\n",
       "      <th>Word_count2</th>\n",
       "      <th>Word_count3</th>\n",
       "      <th>convo</th>\n",
       "    </tr>\n",
       "  </thead>\n",
       "  <tbody>\n",
       "    <tr>\n",
       "      <th>0</th>\n",
       "      <td>Don't worry  I'm girl</td>\n",
       "      <td>hmm how do I know if you are</td>\n",
       "      <td>What's ur name?</td>\n",
       "      <td>others</td>\n",
       "      <td>4</td>\n",
       "      <td>8</td>\n",
       "      <td>3</td>\n",
       "      <td>Don't worry  I'm girl hmm how do I know if you...</td>\n",
       "    </tr>\n",
       "    <tr>\n",
       "      <th>1</th>\n",
       "      <td>When did I?</td>\n",
       "      <td>saw many times i think -_-</td>\n",
       "      <td>No. I never saw you</td>\n",
       "      <td>angry</td>\n",
       "      <td>3</td>\n",
       "      <td>6</td>\n",
       "      <td>5</td>\n",
       "      <td>When did I? saw many times i think -_- No. I n...</td>\n",
       "    </tr>\n",
       "    <tr>\n",
       "      <th>2</th>\n",
       "      <td>By</td>\n",
       "      <td>by Google Chrome</td>\n",
       "      <td>Where you live</td>\n",
       "      <td>others</td>\n",
       "      <td>1</td>\n",
       "      <td>3</td>\n",
       "      <td>3</td>\n",
       "      <td>By by Google Chrome Where you live</td>\n",
       "    </tr>\n",
       "    <tr>\n",
       "      <th>3</th>\n",
       "      <td>U r ridiculous</td>\n",
       "      <td>I might be ridiculous but I am telling the truth.</td>\n",
       "      <td>U little disgusting whore</td>\n",
       "      <td>angry</td>\n",
       "      <td>3</td>\n",
       "      <td>10</td>\n",
       "      <td>4</td>\n",
       "      <td>U r ridiculous I might be ridiculous but I am ...</td>\n",
       "    </tr>\n",
       "    <tr>\n",
       "      <th>4</th>\n",
       "      <td>Just for time pass</td>\n",
       "      <td>wt do u do 4 a living then</td>\n",
       "      <td>Maybe</td>\n",
       "      <td>others</td>\n",
       "      <td>4</td>\n",
       "      <td>8</td>\n",
       "      <td>1</td>\n",
       "      <td>Just for time pass wt do u do 4 a living then ...</td>\n",
       "    </tr>\n",
       "    <tr>\n",
       "      <th>...</th>\n",
       "      <td>...</td>\n",
       "      <td>...</td>\n",
       "      <td>...</td>\n",
       "      <td>...</td>\n",
       "      <td>...</td>\n",
       "      <td>...</td>\n",
       "      <td>...</td>\n",
       "      <td>...</td>\n",
       "    </tr>\n",
       "    <tr>\n",
       "      <th>30155</th>\n",
       "      <td>I don't work</td>\n",
       "      <td>I could take your shift</td>\n",
       "      <td>I am a student</td>\n",
       "      <td>others</td>\n",
       "      <td>3</td>\n",
       "      <td>5</td>\n",
       "      <td>4</td>\n",
       "      <td>I don't work I could take your shift I am a st...</td>\n",
       "    </tr>\n",
       "    <tr>\n",
       "      <th>30156</th>\n",
       "      <td>I'm not getting you 😭😭😭</td>\n",
       "      <td>Why are you crying??</td>\n",
       "      <td>Because you are not making any sense</td>\n",
       "      <td>sad</td>\n",
       "      <td>5</td>\n",
       "      <td>4</td>\n",
       "      <td>7</td>\n",
       "      <td>I'm not getting you 😭😭😭 Why are you crying?? B...</td>\n",
       "    </tr>\n",
       "    <tr>\n",
       "      <th>30157</th>\n",
       "      <td>Haha</td>\n",
       "      <td>no, seriously. What is up with that o-o</td>\n",
       "      <td>Had your breakfast?</td>\n",
       "      <td>others</td>\n",
       "      <td>1</td>\n",
       "      <td>8</td>\n",
       "      <td>3</td>\n",
       "      <td>Haha no, seriously. What is up with that o-o H...</td>\n",
       "    </tr>\n",
       "    <tr>\n",
       "      <th>30158</th>\n",
       "      <td>Do you sing?</td>\n",
       "      <td>yea a lil</td>\n",
       "      <td>Nice</td>\n",
       "      <td>others</td>\n",
       "      <td>3</td>\n",
       "      <td>3</td>\n",
       "      <td>1</td>\n",
       "      <td>Do you sing? yea a lil Nice</td>\n",
       "    </tr>\n",
       "    <tr>\n",
       "      <th>30159</th>\n",
       "      <td>Me to</td>\n",
       "      <td>People be driving me crazy</td>\n",
       "      <td>Come on sleep with me</td>\n",
       "      <td>others</td>\n",
       "      <td>2</td>\n",
       "      <td>5</td>\n",
       "      <td>5</td>\n",
       "      <td>Me to People be driving me crazy Come on sleep...</td>\n",
       "    </tr>\n",
       "  </tbody>\n",
       "</table>\n",
       "<p>26759 rows × 8 columns</p>\n",
       "</div>"
      ],
      "text/plain": [
       "                         turn1  \\\n",
       "0        Don't worry  I'm girl   \n",
       "1                  When did I?   \n",
       "2                           By   \n",
       "3               U r ridiculous   \n",
       "4           Just for time pass   \n",
       "...                        ...   \n",
       "30155             I don't work   \n",
       "30156  I'm not getting you 😭😭😭   \n",
       "30157                     Haha   \n",
       "30158             Do you sing?   \n",
       "30159                    Me to   \n",
       "\n",
       "                                                   turn2  \\\n",
       "0                           hmm how do I know if you are   \n",
       "1                             saw many times i think -_-   \n",
       "2                                       by Google Chrome   \n",
       "3      I might be ridiculous but I am telling the truth.   \n",
       "4                             wt do u do 4 a living then   \n",
       "...                                                  ...   \n",
       "30155                            I could take your shift   \n",
       "30156                               Why are you crying??   \n",
       "30157            no, seriously. What is up with that o-o   \n",
       "30158                                          yea a lil   \n",
       "30159                         People be driving me crazy   \n",
       "\n",
       "                                      turn3   label  Word_count1  Word_count2  \\\n",
       "0                           What's ur name?  others            4            8   \n",
       "1                       No. I never saw you   angry            3            6   \n",
       "2                            Where you live  others            1            3   \n",
       "3                 U little disgusting whore   angry            3           10   \n",
       "4                                     Maybe  others            4            8   \n",
       "...                                     ...     ...          ...          ...   \n",
       "30155                        I am a student  others            3            5   \n",
       "30156  Because you are not making any sense     sad            5            4   \n",
       "30157                   Had your breakfast?  others            1            8   \n",
       "30158                                  Nice  others            3            3   \n",
       "30159                 Come on sleep with me  others            2            5   \n",
       "\n",
       "       Word_count3                                              convo  \n",
       "0                3  Don't worry  I'm girl hmm how do I know if you...  \n",
       "1                5  When did I? saw many times i think -_- No. I n...  \n",
       "2                3                 By by Google Chrome Where you live  \n",
       "3                4  U r ridiculous I might be ridiculous but I am ...  \n",
       "4                1  Just for time pass wt do u do 4 a living then ...  \n",
       "...            ...                                                ...  \n",
       "30155            4  I don't work I could take your shift I am a st...  \n",
       "30156            7  I'm not getting you 😭😭😭 Why are you crying?? B...  \n",
       "30157            3  Haha no, seriously. What is up with that o-o H...  \n",
       "30158            1                        Do you sing? yea a lil Nice  \n",
       "30159            5  Me to People be driving me crazy Come on sleep...  \n",
       "\n",
       "[26759 rows x 8 columns]"
      ]
     },
     "execution_count": 22,
     "metadata": {},
     "output_type": "execute_result"
    }
   ],
   "source": [
    "df"
   ]
  },
  {
   "cell_type": "code",
   "execution_count": 23,
   "id": "c235bad7-9b61-43b9-9490-e9f72de36a50",
   "metadata": {},
   "outputs": [
    {
     "name": "stderr",
     "output_type": "stream",
     "text": [
      "C:\\Users\\dipen\\AppData\\Local\\Temp\\ipykernel_27052\\471105820.py:1: SettingWithCopyWarning: \n",
      "A value is trying to be set on a copy of a slice from a DataFrame.\n",
      "Try using .loc[row_indexer,col_indexer] = value instead\n",
      "\n",
      "See the caveats in the documentation: https://pandas.pydata.org/pandas-docs/stable/user_guide/indexing.html#returning-a-view-versus-a-copy\n",
      "  df[\"convo\"] = df[\"convo\"].apply(lambda x: x.lower())\n"
     ]
    },
    {
     "data": {
      "text/html": [
       "<div>\n",
       "<style scoped>\n",
       "    .dataframe tbody tr th:only-of-type {\n",
       "        vertical-align: middle;\n",
       "    }\n",
       "\n",
       "    .dataframe tbody tr th {\n",
       "        vertical-align: top;\n",
       "    }\n",
       "\n",
       "    .dataframe thead th {\n",
       "        text-align: right;\n",
       "    }\n",
       "</style>\n",
       "<table border=\"1\" class=\"dataframe\">\n",
       "  <thead>\n",
       "    <tr style=\"text-align: right;\">\n",
       "      <th></th>\n",
       "      <th>turn1</th>\n",
       "      <th>turn2</th>\n",
       "      <th>turn3</th>\n",
       "      <th>label</th>\n",
       "      <th>Word_count1</th>\n",
       "      <th>Word_count2</th>\n",
       "      <th>Word_count3</th>\n",
       "      <th>convo</th>\n",
       "    </tr>\n",
       "  </thead>\n",
       "  <tbody>\n",
       "    <tr>\n",
       "      <th>0</th>\n",
       "      <td>Don't worry  I'm girl</td>\n",
       "      <td>hmm how do I know if you are</td>\n",
       "      <td>What's ur name?</td>\n",
       "      <td>others</td>\n",
       "      <td>4</td>\n",
       "      <td>8</td>\n",
       "      <td>3</td>\n",
       "      <td>don't worry  i'm girl hmm how do i know if you...</td>\n",
       "    </tr>\n",
       "    <tr>\n",
       "      <th>1</th>\n",
       "      <td>When did I?</td>\n",
       "      <td>saw many times i think -_-</td>\n",
       "      <td>No. I never saw you</td>\n",
       "      <td>angry</td>\n",
       "      <td>3</td>\n",
       "      <td>6</td>\n",
       "      <td>5</td>\n",
       "      <td>when did i? saw many times i think -_- no. i n...</td>\n",
       "    </tr>\n",
       "    <tr>\n",
       "      <th>2</th>\n",
       "      <td>By</td>\n",
       "      <td>by Google Chrome</td>\n",
       "      <td>Where you live</td>\n",
       "      <td>others</td>\n",
       "      <td>1</td>\n",
       "      <td>3</td>\n",
       "      <td>3</td>\n",
       "      <td>by by google chrome where you live</td>\n",
       "    </tr>\n",
       "    <tr>\n",
       "      <th>3</th>\n",
       "      <td>U r ridiculous</td>\n",
       "      <td>I might be ridiculous but I am telling the truth.</td>\n",
       "      <td>U little disgusting whore</td>\n",
       "      <td>angry</td>\n",
       "      <td>3</td>\n",
       "      <td>10</td>\n",
       "      <td>4</td>\n",
       "      <td>u r ridiculous i might be ridiculous but i am ...</td>\n",
       "    </tr>\n",
       "    <tr>\n",
       "      <th>4</th>\n",
       "      <td>Just for time pass</td>\n",
       "      <td>wt do u do 4 a living then</td>\n",
       "      <td>Maybe</td>\n",
       "      <td>others</td>\n",
       "      <td>4</td>\n",
       "      <td>8</td>\n",
       "      <td>1</td>\n",
       "      <td>just for time pass wt do u do 4 a living then ...</td>\n",
       "    </tr>\n",
       "    <tr>\n",
       "      <th>...</th>\n",
       "      <td>...</td>\n",
       "      <td>...</td>\n",
       "      <td>...</td>\n",
       "      <td>...</td>\n",
       "      <td>...</td>\n",
       "      <td>...</td>\n",
       "      <td>...</td>\n",
       "      <td>...</td>\n",
       "    </tr>\n",
       "    <tr>\n",
       "      <th>30155</th>\n",
       "      <td>I don't work</td>\n",
       "      <td>I could take your shift</td>\n",
       "      <td>I am a student</td>\n",
       "      <td>others</td>\n",
       "      <td>3</td>\n",
       "      <td>5</td>\n",
       "      <td>4</td>\n",
       "      <td>i don't work i could take your shift i am a st...</td>\n",
       "    </tr>\n",
       "    <tr>\n",
       "      <th>30156</th>\n",
       "      <td>I'm not getting you 😭😭😭</td>\n",
       "      <td>Why are you crying??</td>\n",
       "      <td>Because you are not making any sense</td>\n",
       "      <td>sad</td>\n",
       "      <td>5</td>\n",
       "      <td>4</td>\n",
       "      <td>7</td>\n",
       "      <td>i'm not getting you 😭😭😭 why are you crying?? b...</td>\n",
       "    </tr>\n",
       "    <tr>\n",
       "      <th>30157</th>\n",
       "      <td>Haha</td>\n",
       "      <td>no, seriously. What is up with that o-o</td>\n",
       "      <td>Had your breakfast?</td>\n",
       "      <td>others</td>\n",
       "      <td>1</td>\n",
       "      <td>8</td>\n",
       "      <td>3</td>\n",
       "      <td>haha no, seriously. what is up with that o-o h...</td>\n",
       "    </tr>\n",
       "    <tr>\n",
       "      <th>30158</th>\n",
       "      <td>Do you sing?</td>\n",
       "      <td>yea a lil</td>\n",
       "      <td>Nice</td>\n",
       "      <td>others</td>\n",
       "      <td>3</td>\n",
       "      <td>3</td>\n",
       "      <td>1</td>\n",
       "      <td>do you sing? yea a lil nice</td>\n",
       "    </tr>\n",
       "    <tr>\n",
       "      <th>30159</th>\n",
       "      <td>Me to</td>\n",
       "      <td>People be driving me crazy</td>\n",
       "      <td>Come on sleep with me</td>\n",
       "      <td>others</td>\n",
       "      <td>2</td>\n",
       "      <td>5</td>\n",
       "      <td>5</td>\n",
       "      <td>me to people be driving me crazy come on sleep...</td>\n",
       "    </tr>\n",
       "  </tbody>\n",
       "</table>\n",
       "<p>26759 rows × 8 columns</p>\n",
       "</div>"
      ],
      "text/plain": [
       "                         turn1  \\\n",
       "0        Don't worry  I'm girl   \n",
       "1                  When did I?   \n",
       "2                           By   \n",
       "3               U r ridiculous   \n",
       "4           Just for time pass   \n",
       "...                        ...   \n",
       "30155             I don't work   \n",
       "30156  I'm not getting you 😭😭😭   \n",
       "30157                     Haha   \n",
       "30158             Do you sing?   \n",
       "30159                    Me to   \n",
       "\n",
       "                                                   turn2  \\\n",
       "0                           hmm how do I know if you are   \n",
       "1                             saw many times i think -_-   \n",
       "2                                       by Google Chrome   \n",
       "3      I might be ridiculous but I am telling the truth.   \n",
       "4                             wt do u do 4 a living then   \n",
       "...                                                  ...   \n",
       "30155                            I could take your shift   \n",
       "30156                               Why are you crying??   \n",
       "30157            no, seriously. What is up with that o-o   \n",
       "30158                                          yea a lil   \n",
       "30159                         People be driving me crazy   \n",
       "\n",
       "                                      turn3   label  Word_count1  Word_count2  \\\n",
       "0                           What's ur name?  others            4            8   \n",
       "1                       No. I never saw you   angry            3            6   \n",
       "2                            Where you live  others            1            3   \n",
       "3                 U little disgusting whore   angry            3           10   \n",
       "4                                     Maybe  others            4            8   \n",
       "...                                     ...     ...          ...          ...   \n",
       "30155                        I am a student  others            3            5   \n",
       "30156  Because you are not making any sense     sad            5            4   \n",
       "30157                   Had your breakfast?  others            1            8   \n",
       "30158                                  Nice  others            3            3   \n",
       "30159                 Come on sleep with me  others            2            5   \n",
       "\n",
       "       Word_count3                                              convo  \n",
       "0                3  don't worry  i'm girl hmm how do i know if you...  \n",
       "1                5  when did i? saw many times i think -_- no. i n...  \n",
       "2                3                 by by google chrome where you live  \n",
       "3                4  u r ridiculous i might be ridiculous but i am ...  \n",
       "4                1  just for time pass wt do u do 4 a living then ...  \n",
       "...            ...                                                ...  \n",
       "30155            4  i don't work i could take your shift i am a st...  \n",
       "30156            7  i'm not getting you 😭😭😭 why are you crying?? b...  \n",
       "30157            3  haha no, seriously. what is up with that o-o h...  \n",
       "30158            1                        do you sing? yea a lil nice  \n",
       "30159            5  me to people be driving me crazy come on sleep...  \n",
       "\n",
       "[26759 rows x 8 columns]"
      ]
     },
     "execution_count": 23,
     "metadata": {},
     "output_type": "execute_result"
    }
   ],
   "source": [
    "df[\"convo\"] = df[\"convo\"].apply(lambda x: x.lower())\n",
    "df"
   ]
  },
  {
   "cell_type": "code",
   "execution_count": 24,
   "id": "b7f74370-768c-4f0b-a0cf-4666a8ebaa7e",
   "metadata": {},
   "outputs": [],
   "source": [
    "X = df[\"convo\"]\n",
    "y = df[\"label\"]"
   ]
  },
  {
   "cell_type": "code",
   "execution_count": 25,
   "id": "5006b06e-05e6-4817-986d-6eb491d56727",
   "metadata": {},
   "outputs": [],
   "source": [
    "from sklearn.feature_extraction.text import TfidfVectorizer\n",
    "from sklearn.preprocessing import LabelEncoder\n",
    "\n",
    "vec = TfidfVectorizer(stop_words=\"english\")\n",
    "encoder = LabelEncoder()\n",
    "X_vec = vec.fit_transform(X)\n",
    "y_encoded = encoder.fit_transform(y)"
   ]
  },
  {
   "cell_type": "code",
   "execution_count": 26,
   "id": "2055cfe2-91fd-4942-a0a8-cf5f2cf857c4",
   "metadata": {},
   "outputs": [
    {
     "data": {
      "text/plain": [
       "(<Compressed Sparse Row sparse matrix of dtype 'float64'\n",
       " \twith 124039 stored elements and shape (26759, 12071)>,\n",
       " array([2, 0, 2, ..., 2, 2, 2]))"
      ]
     },
     "execution_count": 26,
     "metadata": {},
     "output_type": "execute_result"
    }
   ],
   "source": [
    "X_vec, y_encoded"
   ]
  },
  {
   "cell_type": "code",
   "execution_count": 27,
   "id": "573f0d6a-4515-4b32-852c-6a26edb9531a",
   "metadata": {},
   "outputs": [],
   "source": [
    "from sklearn.model_selection import train_test_split\n",
    "\n",
    "x_train, x_test, y_train, y_test = train_test_split(X_vec, y_encoded, test_size=0.2, random_state=33)"
   ]
  },
  {
   "cell_type": "code",
   "execution_count": 28,
   "id": "5081c0e0",
   "metadata": {},
   "outputs": [],
   "source": [
    "accuracy = {}"
   ]
  },
  {
   "cell_type": "code",
   "execution_count": 29,
   "id": "c81f4031-d008-4293-b5fd-f9a9d75be430",
   "metadata": {},
   "outputs": [],
   "source": [
    "from sklearn.ensemble import RandomForestClassifier\n",
    "from sklearn.metrics import confusion_matrix, classification_report, accuracy_score\n",
    "\n",
    "rf = RandomForestClassifier(n_estimators=100)\n",
    "rf.fit(x_train, y_train)\n",
    "y_pred = rf.predict(x_test)"
   ]
  },
  {
   "cell_type": "code",
   "execution_count": 30,
   "id": "92892829",
   "metadata": {},
   "outputs": [],
   "source": [
    "accuracy[\"RF\"] = accuracy_score(y_test, y_pred)"
   ]
  },
  {
   "cell_type": "code",
   "execution_count": 31,
   "id": "698deaf5-5a53-4453-976f-96f752785579",
   "metadata": {},
   "outputs": [
    {
     "name": "stdout",
     "output_type": "stream",
     "text": [
      "              precision    recall  f1-score   support\n",
      "\n",
      "           0       0.85      0.78      0.82       917\n",
      "           1       0.73      0.59      0.65       784\n",
      "           2       0.76      0.89      0.82      2694\n",
      "           3       0.78      0.61      0.69       957\n",
      "\n",
      "    accuracy                           0.78      5352\n",
      "   macro avg       0.78      0.72      0.74      5352\n",
      "weighted avg       0.78      0.78      0.77      5352\n",
      "\n"
     ]
    }
   ],
   "source": [
    "print(classification_report(y_test, y_pred))"
   ]
  },
  {
   "cell_type": "code",
   "execution_count": 32,
   "id": "3d3f23af-32c9-47a6-a581-58bef76a093d",
   "metadata": {},
   "outputs": [
    {
     "data": {
      "text/plain": [
       "array([[ 717,   13,  147,   40],\n",
       "       [  17,  459,  289,   19],\n",
       "       [  65,  134, 2394,  101],\n",
       "       [  41,   24,  308,  584]], dtype=int64)"
      ]
     },
     "execution_count": 32,
     "metadata": {},
     "output_type": "execute_result"
    }
   ],
   "source": [
    "confusion_matrix(y_test, y_pred)"
   ]
  },
  {
   "cell_type": "code",
   "execution_count": 33,
   "id": "98928b69-99cf-4eeb-9741-bbab01836938",
   "metadata": {},
   "outputs": [
    {
     "name": "stderr",
     "output_type": "stream",
     "text": [
      "c:\\Users\\dipen\\OneDrive\\Desktop\\Qriocity\\venv\\lib\\site-packages\\sklearn\\linear_model\\_logistic.py:458: ConvergenceWarning: lbfgs failed to converge (status=1):\n",
      "STOP: TOTAL NO. OF ITERATIONS REACHED LIMIT.\n",
      "\n",
      "Increase the number of iterations (max_iter) or scale the data as shown in:\n",
      "    https://scikit-learn.org/stable/modules/preprocessing.html\n",
      "Please also refer to the documentation for alternative solver options:\n",
      "    https://scikit-learn.org/stable/modules/linear_model.html#logistic-regression\n",
      "  n_iter_i = _check_optimize_result(\n"
     ]
    }
   ],
   "source": [
    "from sklearn.linear_model import LogisticRegression\n",
    "\n",
    "logreg = LogisticRegression()\n",
    "logreg.fit(x_train, y_train)\n",
    "y_pred = logreg.predict(x_test)"
   ]
  },
  {
   "cell_type": "code",
   "execution_count": 34,
   "id": "94c16ae2",
   "metadata": {},
   "outputs": [],
   "source": [
    "accuracy[\"LogReg\"] = accuracy_score(y_test, y_pred)"
   ]
  },
  {
   "cell_type": "code",
   "execution_count": 35,
   "id": "48f2fd63-6da2-4e72-a1be-4ccae93fc644",
   "metadata": {},
   "outputs": [
    {
     "name": "stdout",
     "output_type": "stream",
     "text": [
      "              precision    recall  f1-score   support\n",
      "\n",
      "           0       0.85      0.70      0.77       917\n",
      "           1       0.75      0.49      0.60       784\n",
      "           2       0.73      0.91      0.81      2694\n",
      "           3       0.79      0.58      0.67       957\n",
      "\n",
      "    accuracy                           0.76      5352\n",
      "   macro avg       0.78      0.67      0.71      5352\n",
      "weighted avg       0.76      0.76      0.75      5352\n",
      "\n"
     ]
    }
   ],
   "source": [
    "print(classification_report(y_test, y_pred))"
   ]
  },
  {
   "cell_type": "code",
   "execution_count": 36,
   "id": "b6bc682d-f265-43d6-b04c-8cfa0c21af55",
   "metadata": {
    "jupyter": {
     "source_hidden": true
    }
   },
   "outputs": [
    {
     "data": {
      "text/plain": [
       "array([[ 645,   15,  217,   40],\n",
       "       [  11,  386,  364,   23],\n",
       "       [  59,   90, 2459,   86],\n",
       "       [  40,   21,  343,  553]], dtype=int64)"
      ]
     },
     "execution_count": 36,
     "metadata": {},
     "output_type": "execute_result"
    }
   ],
   "source": [
    "confusion_matrix(y_test, y_pred)"
   ]
  },
  {
   "cell_type": "code",
   "execution_count": 37,
   "id": "73e2d40c-af74-4178-9e00-0441c744432e",
   "metadata": {},
   "outputs": [],
   "source": [
    "from sklearn.svm import SVC\n",
    "\n",
    "svm = SVC(kernel='linear')\n",
    "svm.fit(x_train, y_train)\n",
    "y_pred = svm.predict(x_test)"
   ]
  },
  {
   "cell_type": "code",
   "execution_count": 38,
   "id": "64d84617",
   "metadata": {},
   "outputs": [],
   "source": [
    "accuracy[\"SVM\"] = accuracy_score(y_test, y_pred)"
   ]
  },
  {
   "cell_type": "code",
   "execution_count": 39,
   "id": "5edbb012-13ff-495e-8ded-88f2be414479",
   "metadata": {},
   "outputs": [
    {
     "name": "stdout",
     "output_type": "stream",
     "text": [
      "              precision    recall  f1-score   support\n",
      "\n",
      "           0       0.84      0.77      0.80       917\n",
      "           1       0.76      0.58      0.66       784\n",
      "           2       0.75      0.90      0.82      2694\n",
      "           3       0.80      0.57      0.67       957\n",
      "\n",
      "    accuracy                           0.77      5352\n",
      "   macro avg       0.79      0.70      0.74      5352\n",
      "weighted avg       0.78      0.77      0.76      5352\n",
      "\n"
     ]
    }
   ],
   "source": [
    "print(classification_report(y_test, y_pred))"
   ]
  },
  {
   "cell_type": "code",
   "execution_count": 40,
   "id": "8dce2065-a17e-4e4e-92e4-9d7b6526cc27",
   "metadata": {
    "jupyter": {
     "source_hidden": true
    }
   },
   "outputs": [
    {
     "data": {
      "text/plain": [
       "array([[ 703,   17,  162,   35],\n",
       "       [  16,  453,  301,   14],\n",
       "       [  75,  102, 2427,   90],\n",
       "       [  47,   25,  338,  547]], dtype=int64)"
      ]
     },
     "execution_count": 40,
     "metadata": {},
     "output_type": "execute_result"
    }
   ],
   "source": [
    "confusion_matrix(y_test, y_pred)"
   ]
  },
  {
   "cell_type": "code",
   "execution_count": 43,
   "id": "0ae0f73b-88f7-4024-b014-c753f5bb8719",
   "metadata": {},
   "outputs": [
    {
     "data": {
      "image/png": "[encoded data removed]",
      "text/plain": [
       "<Figure size 640x480 with 1 Axes>"
      ]
     },
     "metadata": {},
     "output_type": "display_data"
    }
   ],
   "source": [
    "import matplotlib.pyplot as plt\n",
    "\n",
    "plt.bar(accuracy.keys(), accuracy.values())\n",
    "plt.show()"
   ]
  },
  {
   "cell_type": "code",
   "execution_count": null,
   "id": "3ad46f78",
   "metadata": {},
   "outputs": [],
   "source": []
  }
 ],
 "metadata": {
  "kernelspec": {
   "display_name": "venv",
   "language": "python",
   "name": "python3"
  },
  "language_info": {
   "codemirror_mode": {
    "name": "ipython",
    "version": 3
   },
   "file_extension": ".py",
   "mimetype": "text/x-python",
   "name": "python",
   "nbconvert_exporter": "python",
   "pygments_lexer": "ipython3",
   "version": "3.10.0"
  }
 },
 "nbformat": 4,
 "nbformat_minor": 5
}
